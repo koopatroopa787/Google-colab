{
  "cells": [
    {
      "cell_type": "markdown",
      "metadata": {
        "id": "view-in-github",
        "colab_type": "text"
      },
      "source": [
        "<a href=\"https://colab.research.google.com/github/koopatroopa787/Google-colab/blob/main/transformers(self_build)%5B2_9M_param_%26_141M_param%5D.ipynb\" target=\"_parent\"><img src=\"https://colab.research.google.com/assets/colab-badge.svg\" alt=\"Open In Colab\"/></a>"
      ]
    },
    {
      "cell_type": "code",
      "execution_count": null,
      "metadata": {
        "id": "9WXzV7uz2SnO"
      },
      "outputs": [],
      "source": [
        "# PyTorch for implementing LLM (GPU)\n",
        "import torch\n",
        "\n",
        "# Neural network modules and functions from PyTorch\n",
        "from torch import nn\n",
        "from torch.nn import functional as F\n",
        "\n",
        "# NumPy for numerical operations\n",
        "import numpy as np\n",
        "\n",
        "# Matplotlib for plotting Loss etc.\n",
        "from matplotlib import pyplot as plt\n",
        "\n",
        "# Time module for tracking execution time\n",
        "import time\n",
        "\n",
        "# Pandas for data manipulation and analysis\n",
        "import pandas as pd\n",
        "\n",
        "# urllib for handling URL requests (Downloading Dataset)\n",
        "import urllib.request\n"
      ]
    },
    {
      "cell_type": "code",
      "execution_count": null,
      "metadata": {
        "id": "4-QDFtHr2gr3"
      },
      "outputs": [],
      "source": [
        "# Configuration object for model parameters\n",
        "MASTER_CONFIG = {\n",
        "    # Adding parameters later\n",
        "}"
      ]
    },
    {
      "cell_type": "code",
      "execution_count": null,
      "metadata": {
        "colab": {
          "base_uri": "https://localhost:8080/"
        },
        "id": "ql4SXC6A2uwM",
        "outputId": "733d94b5-03ac-4dc4-d022-c04c66f95922"
      },
      "outputs": [
        {
          "output_type": "execute_result",
          "data": {
            "text/plain": [
              "('tinyshakespeare.txt', <http.client.HTTPMessage at 0x7ea12839fd90>)"
            ]
          },
          "metadata": {},
          "execution_count": 40
        }
      ],
      "source": [
        "# The URL of the raw text file on GitHub\n",
        "url = \"https://raw.githubusercontent.com/karpathy/char-rnn/master/data/tinyshakespeare/input.txt\"\n",
        "\n",
        "# The file name for local storage\n",
        "file_name = \"tinyshakespeare.txt\"\n",
        "\n",
        "# Execute the download\n",
        "urllib.request.urlretrieve(url, file_name)"
      ]
    },
    {
      "cell_type": "code",
      "execution_count": null,
      "metadata": {
        "colab": {
          "base_uri": "https://localhost:8080/"
        },
        "id": "5vSmFSgp2y8B",
        "outputId": "1e8c900d-61af-4ed7-bed2-5a2e63d63f52"
      },
      "outputs": [
        {
          "output_type": "stream",
          "name": "stdout",
          "text": [
            "Printing the first 10 characters of the vocab list: ['\\n', ' ', '!', '$', '&', \"'\", ',', '-', '.', '3']\n",
            "Total number of characters in our dataset (Vocabulary Size): 65\n"
          ]
        }
      ],
      "source": [
        "# Read the content of the dataset\n",
        "lines = open(\"tinyshakespeare.txt\", 'r').read()\n",
        "\n",
        "# Create a sorted list of unique characters in the dataset\n",
        "vocab = sorted(list(set(lines)))\n",
        "\n",
        "# Display the first 10 characters in the vocabulary list\n",
        "print('Printing the first 10 characters of the vocab list:', vocab[:10])\n",
        "\n",
        "# Output the total number of characters in our dataset (Vocabulary Size)\n",
        "print('Total number of characters in our dataset (Vocabulary Size):', len(vocab))"
      ]
    },
    {
      "cell_type": "code",
      "execution_count": null,
      "metadata": {
        "id": "SLVBWLhx22hR"
      },
      "outputs": [],
      "source": [
        "# Mapping integers to characters (itos)\n",
        "itos = {i: ch for i, ch in enumerate(vocab)}\n",
        "\n",
        "# Mapping characters to integers (stoi)\n",
        "stoi = {ch: i for i, ch in enumerate(vocab)}"
      ]
    },
    {
      "cell_type": "code",
      "execution_count": null,
      "metadata": {
        "colab": {
          "base_uri": "https://localhost:8080/",
          "height": 35
        },
        "id": "cqtHng6R25tj",
        "outputId": "4d8f23f5-5aa8-410e-f111-a9f3e1bb85ec"
      },
      "outputs": [
        {
          "output_type": "execute_result",
          "data": {
            "text/plain": [
              "'morning'"
            ],
            "application/vnd.google.colaboratory.intrinsic+json": {
              "type": "string"
            }
          },
          "metadata": {},
          "execution_count": 43
        }
      ],
      "source": [
        "# Encode function: Converts a string to a list of integers using the mapping stoi\n",
        "def encode(s):\n",
        "    return [stoi[ch] for ch in s]\n",
        "\n",
        "# Decode function: Converts a list of integers back to a string using the mapping itos\n",
        "def decode(l):\n",
        "    return ''.join([itos[i] for i in l])\n",
        "\n",
        "# Example: Encode the string \"hello\" and then decode the result\n",
        "decode(encode(\"morning\"))"
      ]
    },
    {
      "cell_type": "code",
      "execution_count": null,
      "metadata": {
        "colab": {
          "base_uri": "https://localhost:8080/"
        },
        "id": "w4zkFZVb27pl",
        "outputId": "44f0f412-766f-497c-e9b5-8666f8a11ece"
      },
      "outputs": [
        {
          "output_type": "stream",
          "name": "stdout",
          "text": [
            "torch.Size([1115394])\n"
          ]
        }
      ],
      "source": [
        "# Convert the dataset into a torch tensor with specified data type (dtype)\n",
        "dataset = torch.tensor(encode(lines), dtype=torch.int8)\n",
        "\n",
        "# Display the shape of the resulting tensor\n",
        "print(dataset.shape)"
      ]
    },
    {
      "cell_type": "code",
      "execution_count": null,
      "metadata": {
        "id": "Gh1Qwu_t2-Op"
      },
      "outputs": [],
      "source": [
        "# Function to get batches for training, validation, or testing\n",
        "def get_batches(data, split, batch_size, context_window, config=MASTER_CONFIG):\n",
        "    # Split the dataset into training, validation, and test sets\n",
        "    train = data[:int(.8 * len(data))]\n",
        "    val = data[int(.8 * len(data)): int(.9 * len(data))]\n",
        "    test = data[int(.9 * len(data)):]\n",
        "\n",
        "    # Determine which split to use\n",
        "    batch_data = train\n",
        "    if split == 'val':\n",
        "        batch_data = val\n",
        "    if split == 'test':\n",
        "        batch_data = test\n",
        "\n",
        "    # Pick random starting points within the data\n",
        "    ix = torch.randint(0, batch_data.size(0) - context_window - 1, (batch_size,))\n",
        "\n",
        "    # Create input sequences (x) and corresponding target sequences (y)\n",
        "    x = torch.stack([batch_data[i:i+context_window] for i in ix]).long()\n",
        "    y = torch.stack([batch_data[i+1:i+context_window+1] for i in ix]).long()\n",
        "\n",
        "    return x, y"
      ]
    },
    {
      "cell_type": "code",
      "execution_count": null,
      "metadata": {
        "id": "pgCTLSM83APF"
      },
      "outputs": [],
      "source": [
        "# Update the MASTER_CONFIG with batch_size and context_window parameters\n",
        "MASTER_CONFIG.update({\n",
        "    'batch_size': 8,          # Number of batches to be processed at each random split\n",
        "    'context_window': 16      # Number of characters in each input (x) and target (y) sequence of each batch\n",
        "})"
      ]
    },
    {
      "cell_type": "code",
      "execution_count": null,
      "metadata": {
        "colab": {
          "base_uri": "https://localhost:8080/"
        },
        "id": "Nc7o0hgm3MIk",
        "outputId": "50f01c92-c015-489d-e95d-41746c438a93"
      },
      "outputs": [
        {
          "output_type": "stream",
          "name": "stdout",
          "text": [
            "[('\\nMadam, we did: ', 'Madam, we did: h'), ('hows me where th', 'ows me where tho'), ('ind me here:\\nMy ', 'nd me here:\\nMy l'), (' my kin,\\nI shoul', 'my kin,\\nI should'), ('nce and people: ', 'ce and people: t'), ('IV:\\nWhat fates i', 'V:\\nWhat fates im'), ('most intelligenc', 'ost intelligenci'), ('oble Marcius!\\n\\nF', 'ble Marcius!\\n\\nFi')]\n"
          ]
        }
      ],
      "source": [
        "# Obtain batches for training using the specified batch size and context window\n",
        "xs, ys = get_batches(dataset, 'train', MASTER_CONFIG['batch_size'], MASTER_CONFIG['context_window'])\n",
        "\n",
        "# Decode the sequences to obtain the corresponding text representations\n",
        "decoded_samples = [(decode(xs[i].tolist()), decode(ys[i].tolist())) for i in range(len(xs))]\n",
        "\n",
        "# Print the random sample\n",
        "print(decoded_samples)"
      ]
    },
    {
      "cell_type": "code",
      "execution_count": null,
      "metadata": {
        "id": "pn2LEQnk3Om0"
      },
      "outputs": [],
      "source": [
        "@torch.no_grad()  # Don't compute gradients for this function\n",
        "def evaluate_loss(model, config=MASTER_CONFIG):\n",
        "    # Placeholder for the evaluation results\n",
        "    out = {}\n",
        "\n",
        "    # Set the model to evaluation mode\n",
        "    model.eval()\n",
        "\n",
        "    # Iterate through training and validation splits\n",
        "    for split in [\"train\", \"val\"]:\n",
        "        # Placeholder for individual losses\n",
        "        losses = []\n",
        "\n",
        "        # Generate 10 batches for evaluation\n",
        "        for _ in range(10):\n",
        "            # Get input sequences (xb) and target sequences (yb)\n",
        "            xb, yb = get_batches(dataset, split, config['batch_size'], config['context_window'])\n",
        "\n",
        "            # Move inputs and targets to the same device as the model\n",
        "            xb, yb = xb.to(config['device']), yb.to(config['device'])\n",
        "\n",
        "            # Perform model inference and calculate the loss\n",
        "            _, loss = model(xb, yb)\n",
        "\n",
        "            # Append the loss to the list\n",
        "            losses.append(loss.item())\n",
        "\n",
        "        # Calculate the mean loss for the split and store it in the output dictionary\n",
        "        out[split] = np.mean(losses)\n",
        "\n",
        "    # Set the model back to training mode\n",
        "    model.train()\n",
        "\n",
        "    return out\n"
      ]
    },
    {
      "cell_type": "code",
      "execution_count": null,
      "metadata": {
        "id": "nJLr8xW73WwE"
      },
      "outputs": [],
      "source": [
        "class SimpleBrokenModel(nn.Module):\n",
        "    def __init__(self, config=MASTER_CONFIG):\n",
        "        super().__init__()\n",
        "        self.config = config\n",
        "\n",
        "        # Embedding layer to convert character indices to vectors (vocab size: 65)\n",
        "        self.embedding = nn.Embedding(config['vocab_size'], config['d_model'])\n",
        "\n",
        "        # Linear layers for modeling relationships between features\n",
        "        # (to be updated with SwiGLU activation function as in LLaMA)\n",
        "        self.linear = nn.Sequential(\n",
        "            nn.Linear(config['d_model'], config['d_model']),\n",
        "            nn.ReLU(),  # Currently using ReLU, will be replaced with SwiGLU as in LLaMA\n",
        "            nn.Linear(config['d_model'], config['vocab_size']),\n",
        "        )\n",
        "\n",
        "        # Device attribute for model\n",
        "        self.device = config['device']\n",
        "\n",
        "        # Print the total number of model parameters\n",
        "        print(\"Model parameters:\", sum([m.numel() for m in self.parameters()]))\n",
        "\n",
        "    def forward(self, idx, targets=None):\n",
        "        # Embedding layer converts character indices to vectors\n",
        "        x = self.embedding(idx)\n",
        "\n",
        "        # Linear layers for modeling relationships between features\n",
        "\n",
        "        # Apply softmax activation to obtain a probability distribution\n",
        "        logits = self.linear(x)\n",
        "\n",
        "        # If targets are provided, calculate and return the cross-entropy loss\n",
        "        if targets is not None:\n",
        "            # Reshape logits and targets for cross-entropy calculation\n",
        "            loss = F.cross_entropy(logits.view(-1, self.config['vocab_size']), targets.view(-1))\n",
        "            return logits, loss\n",
        "\n",
        "        # If targets are not provided, return the logits\n",
        "        else:\n",
        "            return logits\n"
      ]
    },
    {
      "cell_type": "code",
      "execution_count": null,
      "metadata": {
        "colab": {
          "base_uri": "https://localhost:8080/"
        },
        "id": "wATYgv1B3txo",
        "outputId": "9efe9164-95c1-41d9-c411-a16643aaef27"
      },
      "outputs": [
        {
          "output_type": "stream",
          "name": "stdout",
          "text": [
            "Model parameters: 33217\n",
            "Total number of parameters in the Simple Neural Network Model: 33217\n"
          ]
        }
      ],
      "source": [
        "# Update the MASTER_CONFIG with GPU-related parameters\n",
        "MASTER_CONFIG.update({\n",
        "    'device': torch.device(\"cuda\" if torch.cuda.is_available() else \"cpu\"),  # Set the device to GPU if available\n",
        "    'd_model': 128,\n",
        "    'vocab_size': 65,\n",
        "})\n",
        "\n",
        "# Instantiate the SimpleBrokenModel using the updated MASTER_CONFIG\n",
        "model = SimpleBrokenModel(MASTER_CONFIG)\n",
        "\n",
        "# Move the model to the GPU\n",
        "model.to(MASTER_CONFIG['device'])\n",
        "\n",
        "# Print the total number of parameters in the model\n",
        "print(\"Total number of parameters in the Simple Neural Network Model:\", sum([m.numel() for m in model.parameters()]))"
      ]
    },
    {
      "cell_type": "code",
      "execution_count": null,
      "metadata": {
        "id": "ihge5sdS6ZWB"
      },
      "outputs": [],
      "source": [
        "# Obtain batches for training using the specified batch size and context window\n",
        "xs, ys = get_batches(dataset, 'train', MASTER_CONFIG['batch_size'], MASTER_CONFIG['context_window'])\n",
        "\n",
        "# Move the data to the GPU\n",
        "xs, ys = xs.to(MASTER_CONFIG['device']), ys.to(MASTER_CONFIG['device'])\n",
        "\n",
        "# Calculate logits and loss using the model\n",
        "logits, loss = model(xs, ys)"
      ]
    },
    {
      "cell_type": "code",
      "execution_count": null,
      "metadata": {
        "colab": {
          "base_uri": "https://localhost:8080/"
        },
        "id": "BokP3xfX6f1F",
        "outputId": "f0f4f1dd-6856-4be5-caae-b489f34d7d70"
      },
      "outputs": [
        {
          "output_type": "stream",
          "name": "stdout",
          "text": [
            "Model parameters: 33217\n"
          ]
        }
      ],
      "source": [
        "# Update MASTER_CONFIG with training parameters\n",
        "MASTER_CONFIG.update({\n",
        "    'epochs': 1000,          # Number of training epochs\n",
        "    'log_interval': 10,      # Log information every 10 batches during training\n",
        "    'batch_size': 32,        # Increase batch size to 32\n",
        "})\n",
        "\n",
        "# Instantiate the SimpleBrokenModel with updated configuration\n",
        "model = SimpleBrokenModel(MASTER_CONFIG)\n",
        "\n",
        "# Define the Adam optimizer for model parameters\n",
        "optimizer = torch.optim.Adam(\n",
        "    model.parameters(),      # Pass the model parameters to the optimizer\n",
        ")\n"
      ]
    },
    {
      "cell_type": "code",
      "execution_count": null,
      "metadata": {
        "id": "qN96-0ax7bc3"
      },
      "outputs": [],
      "source": [
        "def train(model, optimizer, scheduler=None, config=MASTER_CONFIG, print_logs=False):\n",
        "    # Placeholder for storing losses\n",
        "    losses = []\n",
        "\n",
        "    # Start tracking time\n",
        "    start_time = time.time()\n",
        "\n",
        "    # Move the model to the appropriate device\n",
        "    model.to(model.device)\n",
        "\n",
        "    # Iterate through epochs\n",
        "    for epoch in range(config['epochs']):\n",
        "        # Zero out gradients\n",
        "        optimizer.zero_grad()\n",
        "\n",
        "        # Obtain batches for training\n",
        "        xs, ys = get_batches(dataset, 'train', config['batch_size'], config['context_window'])\n",
        "\n",
        "        # Move inputs and targets to the same device as the model\n",
        "        xs, ys = xs.to(model.device), ys.to(model.device)\n",
        "\n",
        "        # Forward pass through the model to calculate logits and loss\n",
        "        logits, loss = model(xs, targets=ys)\n",
        "\n",
        "        # Backward pass and optimization step\n",
        "        loss.backward()\n",
        "        optimizer.step()\n",
        "\n",
        "        # If a learning rate scheduler is provided, adjust the learning rate\n",
        "        if scheduler:\n",
        "            scheduler.step()\n",
        "\n",
        "        # Log progress every specified interval\n",
        "        if epoch % config['log_interval'] == 0:\n",
        "            # Calculate batch time\n",
        "            batch_time = time.time() - start_time\n",
        "\n",
        "            # Evaluate loss on validation set\n",
        "            x = evaluate_loss(model)\n",
        "\n",
        "            # Store the validation loss\n",
        "            losses += [x]\n",
        "\n",
        "            # Print progress logs if specified\n",
        "            if print_logs:\n",
        "                print(f\"Epoch {epoch} | val loss {x['val']:.3f} | Time {batch_time:.3f} | ETA in seconds {batch_time * (config['epochs'] - epoch)/config['log_interval'] :.3f}\")\n",
        "\n",
        "            # Reset the timer\n",
        "            start_time = time.time()\n",
        "\n",
        "            # Print learning rate if a scheduler is provided\n",
        "            if scheduler:\n",
        "                print(\"lr: \", scheduler.get_lr())\n",
        "\n",
        "    # Print the final validation loss\n",
        "    print(\"Validation loss: \", losses[-1]['val'])\n",
        "\n",
        "    # Plot the training and validation loss curves\n",
        "    return pd.DataFrame(losses).plot()"
      ]
    },
    {
      "cell_type": "code",
      "execution_count": null,
      "metadata": {
        "colab": {
          "base_uri": "https://localhost:8080/",
          "height": 482
        },
        "id": "x3Rei-t37ekw",
        "outputId": "c615169b-68a0-413f-cb81-d26f965019a4"
      },
      "outputs": [
        {
          "output_type": "stream",
          "name": "stdout",
          "text": [
            "Model parameters: 33217\n",
            "Validation loss:  2.5319258689880373\n"
          ]
        },
        {
          "output_type": "execute_result",
          "data": {
            "text/plain": [
              "<Axes: >"
            ]
          },
          "metadata": {},
          "execution_count": 55
        },
        {
          "output_type": "display_data",
          "data": {
            "text/plain": [
              "<Figure size 640x480 with 1 Axes>"
            ],
            "image/png": "[encoded data removed]"
          },
          "metadata": {}
        }
      ],
      "source": [
        "# Create the updated SimpleModel\n",
        "model = SimpleBrokenModel(MASTER_CONFIG)\n",
        "\n",
        "# Obtain batches for training\n",
        "xs, ys = get_batches(dataset, 'train', MASTER_CONFIG['batch_size'], MASTER_CONFIG['context_window'])\n",
        "\n",
        "# Calculate logits and loss using the model\n",
        "logits, loss = model(xs, ys)\n",
        "\n",
        "# Define the Adam optimizer for model parameters\n",
        "optimizer = torch.optim.Adam(model.parameters())\n",
        "\n",
        "# Move the model to the GPU\n",
        "model.to(MASTER_CONFIG['device'])\n",
        "\n",
        "# Train the model for 100 epochs\n",
        "train(model, optimizer)"
      ]
    },
    {
      "cell_type": "code",
      "execution_count": null,
      "metadata": {
        "colab": {
          "base_uri": "https://localhost:8080/"
        },
        "id": "lcVaoXvt99JD",
        "outputId": "76922c85-fd5e-46d1-c48a-183f8e94a580"
      },
      "outputs": [
        {
          "output_type": "execute_result",
          "data": {
            "text/plain": [
              "['\\nSilod raks tes lal ikle thad a',\n",
              " '\\nTe bren\\nORI y he\\nANGou s sting',\n",
              " '\\nCigerandey engof he we.\\nPI att',\n",
              " '\\nWhad! ay?\\nAvonor per f hyobr t',\n",
              " '\\nCis my dere heingroren vy b?\\nA']"
            ]
          },
          "metadata": {},
          "execution_count": 56
        }
      ],
      "source": [
        "def generate(model, config=MASTER_CONFIG, max_new_tokens=30):\n",
        "    idx = torch.zeros(5, 1).long().to(config['device'])  # Move to GPU\n",
        "    for _ in range(max_new_tokens):\n",
        "        # Call the model\n",
        "        logits = model(idx[:, -config['context_window']:])\n",
        "\n",
        "        last_time_step_logits = logits[:, -1, :]\n",
        "        p = F.softmax(last_time_step_logits, dim=-1)\n",
        "        idx_next = torch.multinomial(p, num_samples=1)\n",
        "        idx = torch.cat([idx, idx_next], dim=-1)\n",
        "    return [decode(x) for x in idx.tolist()]\n",
        "\n",
        "# Generate text using the trained model\n",
        "generate(model)"
      ]
    },
    {
      "cell_type": "code",
      "execution_count": null,
      "metadata": {
        "id": "6ioJdsmJCoYO"
      },
      "outputs": [],
      "source": [
        "class RMSNorm(nn.Module):\n",
        "    def __init__(self, layer_shape, eps=1e-8, bias=False):\n",
        "        super(RMSNorm, self).__init__()\n",
        "\n",
        "        self.register_parameter(\"scale\", nn.Parameter(torch.ones(layer_shape)))\n",
        "\n",
        "    def forward(self, x):\n",
        "        ff_rms = torch.linalg.norm(x, dim=(1, 2)) * x[0].numel() ** -0.5\n",
        "        raw = x / ff_rms.unsqueeze(-1).unsqueeze(-1)\n",
        "        return self.scale[:x.shape[1], :].unsqueeze(0) * raw"
      ]
    },
    {
      "cell_type": "code",
      "execution_count": null,
      "metadata": {
        "id": "Mbc_ARylCuaD"
      },
      "outputs": [],
      "source": [
        "# Define the SimpleModel_RMS with RMSNorm\n",
        "class SimpleModel_RMS(nn.Module):\n",
        "    def __init__(self, config):\n",
        "        super().__init__()\n",
        "        self.config = config\n",
        "\n",
        "        self.embedding = nn.Embedding(config['vocab_size'], config['d_model'])\n",
        "        self.rms = RMSNorm((config['context_window'], config['d_model']))\n",
        "        self.linear = nn.Sequential(\n",
        "            nn.Linear(config['d_model'], config['d_model']),\n",
        "            nn.ReLU(),\n",
        "            nn.Linear(config['d_model'], config['vocab_size']),\n",
        "        )\n",
        "\n",
        "        self.device = config['device']  # Added device attribute\n",
        "        print(\"Model parameters:\", sum([m.numel() for m in self.parameters()]))\n",
        "\n",
        "    def forward(self, idx, targets=None):\n",
        "        x = self.embedding(idx)\n",
        "        x = self.rms(x)\n",
        "        logits = self.linear(x)\n",
        "\n",
        "        if targets is not None:\n",
        "            loss = F.cross_entropy(logits.view(-1, self.config['vocab_size']), targets.view(-1))\n",
        "            return logits, loss\n",
        "        else:\n",
        "            return logits\n"
      ]
    },
    {
      "cell_type": "code",
      "execution_count": null,
      "metadata": {
        "colab": {
          "base_uri": "https://localhost:8080/",
          "height": 482
        },
        "id": "9DWxGh3kDoKN",
        "outputId": "8f76a212-a858-4eec-e7f3-08996c0b1555"
      },
      "outputs": [
        {
          "output_type": "stream",
          "name": "stdout",
          "text": [
            "Model parameters: 35265\n",
            "Validation loss:  2.520445537567139\n"
          ]
        },
        {
          "output_type": "execute_result",
          "data": {
            "text/plain": [
              "<Axes: >"
            ]
          },
          "metadata": {},
          "execution_count": 59
        },
        {
          "output_type": "display_data",
          "data": {
            "text/plain": [
              "<Figure size 640x480 with 1 Axes>"
            ],
            "image/png": "[encoded data removed]"
          },
          "metadata": {}
        }
      ],
      "source": [
        "# Update the MASTER_CONFIG with GPU-related parameters\n",
        "MASTER_CONFIG.update({\n",
        "    'device': torch.device(\"cuda\" if torch.cuda.is_available() else \"cpu\"),\n",
        "    'd_model': 128,\n",
        "    'vocab_size': 65,\n",
        "    'batch_size': 32,\n",
        "    'epochs': 1000,\n",
        "    'log_interval': 10,\n",
        "})\n",
        "\n",
        "# Instantiate the SimpleModel_RMS using the updated MASTER_CONFIG\n",
        "model = SimpleModel_RMS(MASTER_CONFIG)\n",
        "\n",
        "# Move the model to the GPU\n",
        "model.to(MASTER_CONFIG['device'])\n",
        "\n",
        "# Obtain batches for training\n",
        "xs, ys = get_batches(dataset, 'train', MASTER_CONFIG['batch_size'], MASTER_CONFIG['context_window'])\n",
        "\n",
        "# Move the data to the GPU\n",
        "xs, ys = xs.to(MASTER_CONFIG['device']), ys.to(MASTER_CONFIG['device'])\n",
        "\n",
        "# Calculate logits and loss using the model\n",
        "logits, loss = model(xs, ys)\n",
        "\n",
        "# Define the Adam optimizer for model parameters\n",
        "optimizer = torch.optim.Adam(model.parameters())\n",
        "\n",
        "# Train the model for 100 epochs\n",
        "train(model, optimizer)"
      ]
    },
    {
      "cell_type": "code",
      "execution_count": null,
      "metadata": {
        "id": "Fzq7TNPwD8za"
      },
      "outputs": [],
      "source": [
        "def get_rotary_matrix(context_window, embedding_dim):\n",
        "    # Initialize a tensor for the rotary matrix with zeros\n",
        "    R = torch.zeros((context_window, embedding_dim, embedding_dim), requires_grad=False)\n",
        "\n",
        "    # Loop through each position in the context window\n",
        "    for position in range(context_window):\n",
        "        # Loop through each dimension in the embedding\n",
        "        for i in range(embedding_dim // 2):\n",
        "            # Calculate the rotation angle (theta) based on the position and embedding dimension\n",
        "            theta = 10000. ** (-2. * (i - 1) / embedding_dim)\n",
        "            # Calculate the rotated matrix elements using sine and cosine functions\n",
        "            m_theta = position * theta\n",
        "            R[position, 2 * i, 2 * i] = np.cos(m_theta)\n",
        "            R[position, 2 * i, 2 * i + 1] = -np.sin(m_theta)\n",
        "            R[position, 2 * i + 1, 2 * i] = np.sin(m_theta)\n",
        "            R[position, 2 * i + 1, 2 * i + 1] = np.cos(m_theta)\n",
        "    return R\n"
      ]
    },
    {
      "cell_type": "code",
      "execution_count": null,
      "metadata": {
        "id": "vCtEJJUNE_bA"
      },
      "outputs": [],
      "source": [
        "class RoPEAttentionHead(nn.Module):\n",
        "    def __init__(self, config):\n",
        "        super().__init__()\n",
        "        self.config = config\n",
        "        self.w_q = nn.Linear(config['d_model'], config['d_model'], bias=False)\n",
        "        self.w_k = nn.Linear(config['d_model'], config['d_model'], bias=False)\n",
        "        self.w_v = nn.Linear(config['d_model'], config['d_model'], bias=False)\n",
        "        self.R = get_rotary_matrix(config['context_window'], config['d_model']).to(config['device'])\n",
        "\n",
        "    def forward(self, x, return_attn_weights=False):\n",
        "        q = self.w_q(x)\n",
        "        k = self.w_k(x)\n",
        "        v = self.w_v(x)\n",
        "\n",
        "        b, m, d = x.shape  # batch size, sequence length, dimension\n",
        "\n",
        "        q_rotated = (torch.bmm(q.transpose(0, 1), self.R[:m])).transpose(0, 1)\n",
        "        k_rotated = (torch.bmm(k.transpose(0, 1), self.R[:m])).transpose(0, 1)\n",
        "\n",
        "        activations = F.scaled_dot_product_attention(\n",
        "            q_rotated, k_rotated, v, dropout_p=0.1, is_causal=True\n",
        "        )\n",
        "\n",
        "        if return_attn_weights:\n",
        "            attn_mask = torch.tril(torch.ones((m, m)), diagonal=0)\n",
        "            attn_weights = torch.bmm(q_rotated, k_rotated.transpose(1, 2)) / np.sqrt(d) + attn_mask\n",
        "            attn_weights = F.softmax(attn_weights, dim=-1)\n",
        "            return activations, attn_weights\n",
        "\n",
        "        return activations\n",
        "\n"
      ]
    },
    {
      "cell_type": "code",
      "execution_count": null,
      "metadata": {
        "id": "mGHLYrzXF198"
      },
      "outputs": [],
      "source": [
        "class RoPEMaskedMultiheadAttention(nn.Module):\n",
        "    def __init__(self, config):\n",
        "        super().__init__()\n",
        "        self.config = config\n",
        "        self.heads = nn.ModuleList([\n",
        "            RoPEAttentionHead(config) for _ in range(config['n_heads'])\n",
        "        ])\n",
        "        self.linear = nn.Linear(config['n_heads'] * config['d_model'], config['d_model'])\n",
        "        self.dropout = nn.Dropout(.1)\n",
        "\n",
        "    def forward(self, x):\n",
        "        heads = [h(x) for h in self.heads]\n",
        "        x = torch.cat(heads, dim=-1)\n",
        "        x = self.linear(x)\n",
        "        x = self.dropout(x)\n",
        "        return x\n"
      ]
    },
    {
      "cell_type": "code",
      "execution_count": null,
      "metadata": {
        "id": "1b-l6OuNAZXB"
      },
      "outputs": [],
      "source": [
        "class RMSNorm(nn.Module):\n",
        "    def __init__(self, layer_shape, eps=1e-8, bias=False):\n",
        "        super(RMSNorm, self).__init__()\n",
        "        self.register_parameter(\"scale\", nn.Parameter(torch.ones(layer_shape)))\n",
        "\n",
        "    def forward(self, x):\n",
        "        ff_rms = torch.linalg.norm(x, dim=(1, 2)) * x[0].numel() ** -0.5\n",
        "        raw = x / ff_rms.unsqueeze(-1).unsqueeze(-1)\n",
        "        return self.scale[:x.shape[1], :].unsqueeze(0) * raw"
      ]
    },
    {
      "cell_type": "code",
      "execution_count": null,
      "metadata": {
        "id": "WHOfTLj3F20Y"
      },
      "outputs": [],
      "source": [
        "# Update the master configuration with the number of attention heads\n",
        "MASTER_CONFIG.update({\n",
        "    'n_heads': 8,\n",
        "})"
      ]
    },
    {
      "cell_type": "code",
      "execution_count": null,
      "metadata": {
        "id": "J2wS2RE4F4MW"
      },
      "outputs": [],
      "source": [
        "class RopeModel(nn.Module):\n",
        "    def __init__(self, config):\n",
        "        super().__init__()\n",
        "        self.config = config\n",
        "        self.embedding = nn.Embedding(config['vocab_size'], config['d_model'])\n",
        "        self.rms = RMSNorm((config['context_window'], config['d_model']))\n",
        "        self.rope_attention = RoPEMaskedMultiheadAttention(config)\n",
        "        self.linear = nn.Sequential(\n",
        "            nn.Linear(config['d_model'], config['d_model']),\n",
        "            nn.ReLU(),\n",
        "        )\n",
        "        self.last_linear = nn.Linear(config['d_model'], config['vocab_size'])\n",
        "\n",
        "        self.device = config['device']  # Added device attribute\n",
        "        print(\"model params:\", sum([m.numel() for m in self.parameters()]))\n",
        "\n",
        "    def forward(self, idx, targets=None):\n",
        "        x = self.embedding(idx)\n",
        "        x = self.rms(x)\n",
        "        x = x + self.rope_attention(x)\n",
        "        x = self.rms(x)\n",
        "        x = x + self.linear(x)\n",
        "        logits = self.last_linear(x)\n",
        "\n",
        "        if targets is not None:\n",
        "            loss = F.cross_entropy(logits.view(-1, self.config['vocab_size']), targets.view(-1))\n",
        "            return logits, loss\n",
        "\n",
        "        else:\n",
        "            return logits"
      ]
    },
    {
      "cell_type": "code",
      "execution_count": null,
      "metadata": {
        "colab": {
          "base_uri": "https://localhost:8080/",
          "height": 482
        },
        "id": "lmrbObFOF6ig",
        "outputId": "037242ee-0c78-4dcd-935c-ebca63ac2454"
      },
      "outputs": [
        {
          "output_type": "stream",
          "name": "stdout",
          "text": [
            "model params: 559681\n",
            "Validation loss:  2.1082448840141295\n"
          ]
        },
        {
          "output_type": "execute_result",
          "data": {
            "text/plain": [
              "<Axes: >"
            ]
          },
          "metadata": {},
          "execution_count": 66
        },
        {
          "output_type": "display_data",
          "data": {
            "text/plain": [
              "<Figure size 640x480 with 1 Axes>"
            ],
            "image/png": "[encoded data removed]"
          },
          "metadata": {}
        }
      ],
      "source": [
        "# Update the MASTER_CONFIG with GPU-related parameters\n",
        "MASTER_CONFIG.update({\n",
        "    'device': torch.device(\"cuda\" if torch.cuda.is_available() else \"cpu\"),\n",
        "    'd_model': 128,\n",
        "    'vocab_size': 65,\n",
        "    'batch_size': 32,\n",
        "    'epochs': 1000,\n",
        "    'log_interval': 10,\n",
        "    'n_heads': 8,  # Number of attention heads\n",
        "})\n",
        "\n",
        "# Instantiate the RopeModel using the updated MASTER_CONFIG\n",
        "model = RopeModel(MASTER_CONFIG)\n",
        "\n",
        "# Move the model to the GPU\n",
        "model.to(MASTER_CONFIG['device'])\n",
        "\n",
        "# Obtain batches for training\n",
        "xs, ys = get_batches(dataset, 'train', MASTER_CONFIG['batch_size'], MASTER_CONFIG['context_window'])\n",
        "\n",
        "# Move the data to the GPU\n",
        "xs, ys = xs.to(MASTER_CONFIG['device']), ys.to(MASTER_CONFIG['device'])\n",
        "\n",
        "# Calculate logits and loss using the model\n",
        "logits, loss = model(xs, ys)\n",
        "\n",
        "# Define the Adam optimizer for model parameters\n",
        "optimizer = torch.optim.Adam(model.parameters())\n",
        "\n",
        "# Train the model for 100 epochs\n",
        "train(model, optimizer)"
      ]
    },
    {
      "cell_type": "code",
      "execution_count": null,
      "metadata": {
        "id": "e3XK_RATF8Yc"
      },
      "outputs": [],
      "source": [
        "# Updating training configuration with more epochs and a logging interval\n",
        "MASTER_CONFIG.update({\n",
        "    'epochs': 5000,\n",
        "    'log_interval': 10,\n",
        "    'device': torch.device(\"cuda\" if torch.cuda.is_available() else \"cpu\")\n",
        "})\n"
      ]
    },
    {
      "cell_type": "code",
      "execution_count": null,
      "metadata": {
        "id": "fFTSt9W0Lsjg"
      },
      "outputs": [],
      "source": [
        "class SwiGLU(nn.Module):\n",
        "    \"\"\" Paper Link -> https://arxiv.org/pdf/2002.05202v1.pdf \"\"\"\n",
        "    def __init__(self, size):\n",
        "        super().__init__()\n",
        "        #self.config = config  # Configuration information\n",
        "        self.linear_gate = nn.Linear(size, size)  # Linear transformation for the gating mechanism\n",
        "        self.linear = nn.Linear(size, size)  # Linear transformation for the main branch\n",
        "        self.beta = torch.randn(1, requires_grad=True)  # Random initialization of the beta parameter\n",
        "\n",
        "        # Using nn.Parameter for beta to ensure it's recognized as a learnable parameter\n",
        "        self.beta = nn.Parameter(torch.ones(1))\n",
        "        self.register_parameter(\"beta\", self.beta)\n",
        "\n",
        "    def forward(self, x):\n",
        "        # Swish-Gated Linear Unit computation\n",
        "        swish_gate = self.linear_gate(x) * torch.sigmoid(self.beta * self.linear_gate(x))\n",
        "        out = swish_gate * self.linear(x)  # Element-wise multiplication of the gate and main branch\n",
        "        return out"
      ]
    },
    {
      "cell_type": "code",
      "execution_count": null,
      "metadata": {
        "id": "3BRzDGr2tqRI"
      },
      "outputs": [],
      "source": [
        "class RopeModel(nn.Module):\n",
        "    def __init__(self, config):\n",
        "        super().__init__()\n",
        "        self.config = config\n",
        "\n",
        "        # Ensure 'device' is in the config and set it as an attribute\n",
        "        if 'device' not in config:\n",
        "            raise ValueError(\"Config must include 'device' key.\")\n",
        "        self.device = config['device']\n",
        "\n",
        "        # Embedding layer for input tokens\n",
        "        self.embedding = nn.Embedding(config['vocab_size'], config['d_model'])\n",
        "\n",
        "        # RMSNorm layer for pre-normalization\n",
        "        self.rms = RMSNorm((config['context_window'], config['d_model']))\n",
        "\n",
        "        # Multi-head attention layer with RoPE (Rotary Positional Embeddings)\n",
        "        self.rope_attention = RoPEMaskedMultiheadAttention(config)\n",
        "\n",
        "        # Linear layer followed by SwiGLU activation\n",
        "        self.linear = nn.Sequential(\n",
        "            nn.Linear(config['d_model'], config['d_model']),\n",
        "            SwiGLU(config['d_model']),  # Adding SwiGLU activation\n",
        "        )\n",
        "\n",
        "        # Output linear layer\n",
        "        self.last_linear = nn.Linear(config['d_model'], config['vocab_size'])\n",
        "\n",
        "        # Moving the model to the specified device\n",
        "        self.to(self.device)\n",
        "\n",
        "        # Printing total model parameters\n",
        "        print(\"model params:\", sum([m.numel() for m in self.parameters()]))\n",
        "\n",
        "    def forward(self, idx, targets=None):\n",
        "        # Moving input data to the GPU\n",
        "        x = self.embedding(idx.to(self.config['device']))\n",
        "\n",
        "        # One block of attention\n",
        "        x = self.rms(x)  # RMS pre-normalization\n",
        "        x = x + self.rope_attention(x)\n",
        "\n",
        "        x = self.rms(x)  # RMS pre-normalization\n",
        "        x = x + self.linear(x)  # Applying SwiGLU activation\n",
        "\n",
        "        logits = self.last_linear(x)\n",
        "\n",
        "        if targets is not None:\n",
        "            # Moving targets to the specified device\n",
        "            targets = targets.to(self.config['device'])\n",
        "            # Calculate cross-entropy loss if targets are provided\n",
        "            loss = F.cross_entropy(logits.view(-1, self.config['vocab_size']), targets.view(-1))\n",
        "            return logits, loss\n",
        "\n",
        "        else:\n",
        "            return logits"
      ]
    },
    {
      "cell_type": "code",
      "execution_count": null,
      "metadata": {
        "colab": {
          "base_uri": "https://localhost:8080/",
          "height": 482
        },
        "id": "PdMmXXL7tthc",
        "outputId": "5cbf30f9-1ea6-47fa-aabe-6b28db03a83b"
      },
      "outputs": [
        {
          "output_type": "stream",
          "name": "stdout",
          "text": [
            "model params: 592706\n",
            "Validation loss:  1.9127403616905212\n"
          ]
        },
        {
          "output_type": "execute_result",
          "data": {
            "text/plain": [
              "<Axes: >"
            ]
          },
          "metadata": {},
          "execution_count": 70
        },
        {
          "output_type": "display_data",
          "data": {
            "text/plain": [
              "<Figure size 640x480 with 1 Axes>"
            ],
            "image/png": "[encoded data removed]"
          },
          "metadata": {}
        }
      ],
      "source": [
        "import torch\n",
        "import torch.nn as nn\n",
        "\n",
        "# Create an instance of RopeModel (RMSNorm, RoPE, Multi-Head, SwiGLU)\n",
        "model = RopeModel(MASTER_CONFIG)\n",
        "\n",
        "# Obtain batches for training\n",
        "xs, ys = get_batches(dataset, 'train', MASTER_CONFIG['batch_size'], MASTER_CONFIG['context_window'])\n",
        "\n",
        "# Calculate logits and loss using the model\n",
        "logits, loss = model(xs, ys)\n",
        "\n",
        "# Define the Adam optimizer for model parameters\n",
        "optimizer = torch.optim.Adam(model.parameters())\n",
        "\n",
        "# Train the model\n",
        "train(model, optimizer)"
      ]
    },
    {
      "cell_type": "code",
      "execution_count": null,
      "metadata": {
        "id": "k5b2GX7ztvkB"
      },
      "outputs": [],
      "source": [
        "# Update model configurations for the number of layers\n",
        "MASTER_CONFIG.update({\n",
        "    'n_layers': 8,  # Set the number of layers to 4\n",
        "})"
      ]
    },
    {
      "cell_type": "code",
      "execution_count": null,
      "metadata": {
        "id": "wF1ohRHOt7Yi"
      },
      "outputs": [],
      "source": [
        "# add RMSNorm and residual connection\n",
        "class LlamaBlock(nn.Module):\n",
        "    def __init__(self, config):\n",
        "        super().__init__()\n",
        "        self.config = config\n",
        "\n",
        "        # RMSNorm layer\n",
        "        self.rms = RMSNorm((config['context_window'], config['d_model']))\n",
        "\n",
        "        # RoPE Masked Multihead Attention layer\n",
        "        self.attention = RoPEMaskedMultiheadAttention(config)\n",
        "\n",
        "        # Feedforward layer with SwiGLU activation\n",
        "        self.feedforward = nn.Sequential(\n",
        "            nn.Linear(config['d_model'], config['d_model']),\n",
        "            SwiGLU(config['d_model']),\n",
        "        )\n",
        "\n",
        "    def forward(self, x):\n",
        "        # one block of attention\n",
        "        x = self.rms(x) # RMS pre-normalization\n",
        "        x = x + self.attention(x)  # residual connection\n",
        "\n",
        "        x = self.rms(x) # RMS pre-normalization\n",
        "        x = x + self.feedforward(x)  # residual connection\n",
        "        return x"
      ]
    },
    {
      "cell_type": "code",
      "execution_count": null,
      "metadata": {
        "id": "ubdHEX3eqQu5"
      },
      "outputs": [],
      "source": [
        "  # Assuming MASTER_CONFIG is defined and includes a 'device' key with a value like 'cuda' or 'cpu'\n",
        "block = LlamaBlock(MASTER_CONFIG).to(MASTER_CONFIG['device'])\n",
        "\n",
        "# Generate a random tensor with the specified batch size, context window, and model dimension\n",
        "# and move it to the same device as the block\n",
        "random_input = torch.randn(MASTER_CONFIG['batch_size'], MASTER_CONFIG['context_window'], MASTER_CONFIG['d_model'], device=MASTER_CONFIG['device'])\n",
        "\n",
        "# Apply the LlamaBlock to the random input tensor\n",
        "output = block(random_input)\n"
      ]
    },
    {
      "cell_type": "code",
      "execution_count": null,
      "metadata": {
        "id": "EHvrfbPfqVFG"
      },
      "outputs": [],
      "source": [
        "from collections import OrderedDict\n",
        "\n",
        "class Llama(nn.Module):\n",
        "    def __init__(self, config):\n",
        "        super().__init__()\n",
        "        self.config = config\n",
        "\n",
        "        # Embedding layer for token representations\n",
        "        self.embeddings = nn.Embedding(config['vocab_size'], config['d_model'])\n",
        "\n",
        "        # Sequential block of LlamaBlocks based on the specified number of layers\n",
        "        self.llama_blocks = nn.Sequential(\n",
        "            OrderedDict([(f\"llama_{i}\", LlamaBlock(config)) for i in range(config['n_layers'])])\n",
        "        )\n",
        "\n",
        "        # Feedforward network (FFN) for final output\n",
        "        self.ffn = nn.Sequential(\n",
        "            nn.Linear(config['d_model'], config['d_model']),\n",
        "            SwiGLU(config['d_model']),\n",
        "            nn.Linear(config['d_model'], config['vocab_size']),\n",
        "        )\n",
        "\n",
        "        # Move the model to the appropriate device\n",
        "        self.device = config['device']\n",
        "        self.to(self.device)\n",
        "\n",
        "        # Print total number of parameters in the model\n",
        "        print(\"model params:\", sum([m.numel() for m in self.parameters()]))\n",
        "\n",
        "    def forward(self, idx, targets=None):\n",
        "        # Input token indices are passed through the embedding layer\n",
        "        x = self.embeddings(idx.to(self.device))\n",
        "\n",
        "        # Process the input through the LlamaBlocks\n",
        "        x = self.llama_blocks(x)\n",
        "\n",
        "        # Pass the processed input through the final FFN for output logits\n",
        "        logits = self.ffn(x)\n",
        "\n",
        "        # If targets are not provided, return only the logits\n",
        "        if targets is None:\n",
        "            return logits\n",
        "        # If targets are provided, compute and return the cross-entropy loss\n",
        "        else:\n",
        "            # Move targets to the specified device\n",
        "            targets = targets.to(self.device)\n",
        "\n",
        "            loss = F.cross_entropy(logits.view(-1, self.config['vocab_size']), targets.view(-1))\n",
        "            return logits, loss"
      ]
    },
    {
      "cell_type": "code",
      "execution_count": null,
      "metadata": {
        "id": "3QUjwidQDnLq"
      },
      "outputs": [],
      "source": []
    },
    {
      "cell_type": "code",
      "execution_count": null,
      "metadata": {
        "colab": {
          "base_uri": "https://localhost:8080/",
          "height": 482
        },
        "id": "ME7azvDmqW4V",
        "outputId": "3390dffb-f556-4098-f0e2-1b4c4d9acc1d"
      },
      "outputs": [
        {
          "output_type": "stream",
          "name": "stdout",
          "text": [
            "model params: 141445706\n",
            "Validation loss:  3.3278706073760986\n"
          ]
        },
        {
          "output_type": "execute_result",
          "data": {
            "text/plain": [
              "<Axes: >"
            ]
          },
          "metadata": {},
          "execution_count": 79
        },
        {
          "output_type": "display_data",
          "data": {
            "text/plain": [
              "<Figure size 640x480 with 1 Axes>"
            ],
            "image/png": "[encoded data removed]"
          },
          "metadata": {}
        }
      ],
      "source": [
        "# Create an instance of Llama (RMSNorm, RoPE, Multi-Head, SwiGLU, N_layers)\n",
        "llama = Llama(MASTER_CONFIG)\n",
        "\n",
        "# Obtain batches for training\n",
        "xs, ys = get_batches(dataset, 'train', MASTER_CONFIG['batch_size'], MASTER_CONFIG['context_window'])\n",
        "\n",
        "# Calculate logits and loss using the model\n",
        "logits, loss = llama(xs, ys)\n",
        "\n",
        "# Define the Adam optimizer for model parameters\n",
        "optimizer = torch.optim.Adam(llama.parameters())\n",
        "\n",
        "# Train the model\n",
        "train(llama, optimizer)"
      ]
    },
    {
      "cell_type": "code",
      "execution_count": null,
      "metadata": {
        "id": "aaWxUdk0yfEr"
      },
      "outputs": [],
      "source": []
    },
    {
      "cell_type": "code",
      "execution_count": null,
      "metadata": {
        "id": "i02v0oz2qciv",
        "colab": {
          "base_uri": "https://localhost:8080/",
          "height": 321
        },
        "outputId": "3b347507-ba71-41f0-c1c1-c1e06e5734fa"
      },
      "outputs": [
        {
          "output_type": "error",
          "ename": "KeyboardInterrupt",
          "evalue": "",
          "traceback": [
            "\u001b[0;31m---------------------------------------------------------------------------\u001b[0m",
            "\u001b[0;31mKeyboardInterrupt\u001b[0m                         Traceback (most recent call last)",
            "\u001b[0;32m<ipython-input-78-286cdad986d6>\u001b[0m in \u001b[0;36m<cell line: 10>\u001b[0;34m()\u001b[0m\n\u001b[1;32m      8\u001b[0m })\n\u001b[1;32m      9\u001b[0m \u001b[0;31m# Train the LLaMA model for the specified number of epochs\u001b[0m\u001b[0;34m\u001b[0m\u001b[0;34m\u001b[0m\u001b[0m\n\u001b[0;32m---> 10\u001b[0;31m \u001b[0mtrain\u001b[0m\u001b[0;34m(\u001b[0m\u001b[0mllama\u001b[0m\u001b[0;34m,\u001b[0m \u001b[0moptimizer\u001b[0m\u001b[0;34m,\u001b[0m \u001b[0mscheduler\u001b[0m\u001b[0;34m=\u001b[0m\u001b[0;32mNone\u001b[0m\u001b[0;34m,\u001b[0m \u001b[0mconfig\u001b[0m\u001b[0;34m=\u001b[0m\u001b[0mMASTER_CONFIG\u001b[0m\u001b[0;34m)\u001b[0m\u001b[0;34m\u001b[0m\u001b[0;34m\u001b[0m\u001b[0m\n\u001b[0m",
            "\u001b[0;32m<ipython-input-52-93b43a5eb5b9>\u001b[0m in \u001b[0;36mtrain\u001b[0;34m(model, optimizer, scheduler, config, print_logs)\u001b[0m\n\u001b[1;32m     37\u001b[0m \u001b[0;34m\u001b[0m\u001b[0m\n\u001b[1;32m     38\u001b[0m             \u001b[0;31m# Evaluate loss on validation set\u001b[0m\u001b[0;34m\u001b[0m\u001b[0;34m\u001b[0m\u001b[0m\n\u001b[0;32m---> 39\u001b[0;31m             \u001b[0mx\u001b[0m \u001b[0;34m=\u001b[0m \u001b[0mevaluate_loss\u001b[0m\u001b[0;34m(\u001b[0m\u001b[0mmodel\u001b[0m\u001b[0;34m)\u001b[0m\u001b[0;34m\u001b[0m\u001b[0;34m\u001b[0m\u001b[0m\n\u001b[0m\u001b[1;32m     40\u001b[0m \u001b[0;34m\u001b[0m\u001b[0m\n\u001b[1;32m     41\u001b[0m             \u001b[0;31m# Store the validation loss\u001b[0m\u001b[0;34m\u001b[0m\u001b[0;34m\u001b[0m\u001b[0m\n",
            "\u001b[0;32m/usr/local/lib/python3.10/dist-packages/torch/utils/_contextlib.py\u001b[0m in \u001b[0;36mdecorate_context\u001b[0;34m(*args, **kwargs)\u001b[0m\n\u001b[1;32m    113\u001b[0m     \u001b[0;32mdef\u001b[0m \u001b[0mdecorate_context\u001b[0m\u001b[0;34m(\u001b[0m\u001b[0;34m*\u001b[0m\u001b[0margs\u001b[0m\u001b[0;34m,\u001b[0m \u001b[0;34m**\u001b[0m\u001b[0mkwargs\u001b[0m\u001b[0;34m)\u001b[0m\u001b[0;34m:\u001b[0m\u001b[0;34m\u001b[0m\u001b[0;34m\u001b[0m\u001b[0m\n\u001b[1;32m    114\u001b[0m         \u001b[0;32mwith\u001b[0m \u001b[0mctx_factory\u001b[0m\u001b[0;34m(\u001b[0m\u001b[0;34m)\u001b[0m\u001b[0;34m:\u001b[0m\u001b[0;34m\u001b[0m\u001b[0;34m\u001b[0m\u001b[0m\n\u001b[0;32m--> 115\u001b[0;31m             \u001b[0;32mreturn\u001b[0m \u001b[0mfunc\u001b[0m\u001b[0;34m(\u001b[0m\u001b[0;34m*\u001b[0m\u001b[0margs\u001b[0m\u001b[0;34m,\u001b[0m \u001b[0;34m**\u001b[0m\u001b[0mkwargs\u001b[0m\u001b[0;34m)\u001b[0m\u001b[0;34m\u001b[0m\u001b[0;34m\u001b[0m\u001b[0m\n\u001b[0m\u001b[1;32m    116\u001b[0m \u001b[0;34m\u001b[0m\u001b[0m\n\u001b[1;32m    117\u001b[0m     \u001b[0;32mreturn\u001b[0m \u001b[0mdecorate_context\u001b[0m\u001b[0;34m\u001b[0m\u001b[0;34m\u001b[0m\u001b[0m\n",
            "\u001b[0;32m<ipython-input-48-74587b30d31c>\u001b[0m in \u001b[0;36mevaluate_loss\u001b[0;34m(model, config)\u001b[0m\n\u001b[1;32m     24\u001b[0m \u001b[0;34m\u001b[0m\u001b[0m\n\u001b[1;32m     25\u001b[0m             \u001b[0;31m# Append the loss to the list\u001b[0m\u001b[0;34m\u001b[0m\u001b[0;34m\u001b[0m\u001b[0m\n\u001b[0;32m---> 26\u001b[0;31m             \u001b[0mlosses\u001b[0m\u001b[0;34m.\u001b[0m\u001b[0mappend\u001b[0m\u001b[0;34m(\u001b[0m\u001b[0mloss\u001b[0m\u001b[0;34m.\u001b[0m\u001b[0mitem\u001b[0m\u001b[0;34m(\u001b[0m\u001b[0;34m)\u001b[0m\u001b[0;34m)\u001b[0m\u001b[0;34m\u001b[0m\u001b[0;34m\u001b[0m\u001b[0m\n\u001b[0m\u001b[1;32m     27\u001b[0m \u001b[0;34m\u001b[0m\u001b[0m\n\u001b[1;32m     28\u001b[0m         \u001b[0;31m# Calculate the mean loss for the split and store it in the output dictionary\u001b[0m\u001b[0;34m\u001b[0m\u001b[0;34m\u001b[0m\u001b[0m\n",
            "\u001b[0;31mKeyboardInterrupt\u001b[0m: "
          ]
        }
      ],
      "source": [
        "# Update the number of epochs in the configuration\n",
        "MASTER_CONFIG.update({\n",
        "    'epochs': 10000,\n",
        "    'd_model':512,\n",
        "    'n_heads':16,\n",
        "    'n_layers':8,\n",
        "    'dropout':0.1,\n",
        "})\n",
        "# Train the LLaMA model for the specified number of epochs\n",
        "train(llama, optimizer, scheduler=None, config=MASTER_CONFIG)"
      ]
    },
    {
      "cell_type": "code",
      "execution_count": null,
      "metadata": {
        "colab": {
          "base_uri": "https://localhost:8080/",
          "height": 465
        },
        "id": "ImqK2b19qilq",
        "outputId": "221ec639-a985-447d-d360-0bbd074426f5"
      },
      "outputs": [
        {
          "name": "stdout",
          "output_type": "stream",
          "text": [
            "Validation loss:  0.9794728338718415\n"
          ]
        },
        {
          "data": {
            "text/plain": [
              "<Axes: >"
            ]
          },
          "execution_count": 74,
          "metadata": {},
          "output_type": "execute_result"
        },
        {
          "data": {
            "image/png": "[encoded data removed]",
            "text/plain": [
              "<Figure size 640x480 with 1 Axes>"
            ]
          },
          "metadata": {},
          "output_type": "display_data"
        }
      ],
      "source": [
        "# Training the model again, scheduler for better optimization.\n",
        "train(llama, optimizer, config=MASTER_CONFIG)"
      ]
    },
    {
      "cell_type": "code",
      "execution_count": null,
      "metadata": {
        "colab": {
          "base_uri": "https://localhost:8080/"
        },
        "id": "FsUDj_NLJ6V-",
        "outputId": "83f8a046-30f9-419f-a5c7-0067726314c1"
      },
      "outputs": [
        {
          "name": "stdout",
          "output_type": "stream",
          "text": [
            "{'batch_size': 32, 'context_window': 16, 'device': device(type='cuda'), 'd_model': 512, 'vocab_size': 65, 'epochs': 10000, 'log_interval': 10, 'n_heads': 16, 'n_layers': 8}\n"
          ]
        }
      ],
      "source": [
        "# prompt: print the MASTER_CONFIG\n",
        "\n",
        "print(MASTER_CONFIG)\n"
      ]
    },
    {
      "cell_type": "code",
      "execution_count": null,
      "metadata": {
        "colab": {
          "base_uri": "https://localhost:8080/"
        },
        "id": "bBRWeh-SX0YV",
        "outputId": "92ef6cef-6691-45ca-8bee-9814a8360075"
      },
      "outputs": [
        {
          "name": "stdout",
          "output_type": "stream",
          "text": [
            "embeddings.weight: 8320 parameters\n",
            "llama_blocks.llama_0.rms.scale: 2048 parameters\n",
            "llama_blocks.llama_0.attention.heads.0.w_q.weight: 16384 parameters\n",
            "llama_blocks.llama_0.attention.heads.0.w_k.weight: 16384 parameters\n",
            "llama_blocks.llama_0.attention.heads.0.w_v.weight: 16384 parameters\n",
            "llama_blocks.llama_0.attention.heads.1.w_q.weight: 16384 parameters\n",
            "llama_blocks.llama_0.attention.heads.1.w_k.weight: 16384 parameters\n",
            "llama_blocks.llama_0.attention.heads.1.w_v.weight: 16384 parameters\n",
            "llama_blocks.llama_0.attention.heads.2.w_q.weight: 16384 parameters\n",
            "llama_blocks.llama_0.attention.heads.2.w_k.weight: 16384 parameters\n",
            "llama_blocks.llama_0.attention.heads.2.w_v.weight: 16384 parameters\n",
            "llama_blocks.llama_0.attention.heads.3.w_q.weight: 16384 parameters\n",
            "llama_blocks.llama_0.attention.heads.3.w_k.weight: 16384 parameters\n",
            "llama_blocks.llama_0.attention.heads.3.w_v.weight: 16384 parameters\n",
            "llama_blocks.llama_0.attention.heads.4.w_q.weight: 16384 parameters\n",
            "llama_blocks.llama_0.attention.heads.4.w_k.weight: 16384 parameters\n",
            "llama_blocks.llama_0.attention.heads.4.w_v.weight: 16384 parameters\n",
            "llama_blocks.llama_0.attention.heads.5.w_q.weight: 16384 parameters\n",
            "llama_blocks.llama_0.attention.heads.5.w_k.weight: 16384 parameters\n",
            "llama_blocks.llama_0.attention.heads.5.w_v.weight: 16384 parameters\n",
            "llama_blocks.llama_0.attention.heads.6.w_q.weight: 16384 parameters\n",
            "llama_blocks.llama_0.attention.heads.6.w_k.weight: 16384 parameters\n",
            "llama_blocks.llama_0.attention.heads.6.w_v.weight: 16384 parameters\n",
            "llama_blocks.llama_0.attention.heads.7.w_q.weight: 16384 parameters\n",
            "llama_blocks.llama_0.attention.heads.7.w_k.weight: 16384 parameters\n",
            "llama_blocks.llama_0.attention.heads.7.w_v.weight: 16384 parameters\n",
            "llama_blocks.llama_0.attention.linear.weight: 131072 parameters\n",
            "llama_blocks.llama_0.attention.linear.bias: 128 parameters\n",
            "llama_blocks.llama_0.feedforward.0.weight: 16384 parameters\n",
            "llama_blocks.llama_0.feedforward.0.bias: 128 parameters\n",
            "llama_blocks.llama_0.feedforward.1.beta: 1 parameters\n",
            "llama_blocks.llama_0.feedforward.1.linear_gate.weight: 16384 parameters\n",
            "llama_blocks.llama_0.feedforward.1.linear_gate.bias: 128 parameters\n",
            "llama_blocks.llama_0.feedforward.1.linear.weight: 16384 parameters\n",
            "llama_blocks.llama_0.feedforward.1.linear.bias: 128 parameters\n",
            "llama_blocks.llama_1.rms.scale: 2048 parameters\n",
            "llama_blocks.llama_1.attention.heads.0.w_q.weight: 16384 parameters\n",
            "llama_blocks.llama_1.attention.heads.0.w_k.weight: 16384 parameters\n",
            "llama_blocks.llama_1.attention.heads.0.w_v.weight: 16384 parameters\n",
            "llama_blocks.llama_1.attention.heads.1.w_q.weight: 16384 parameters\n",
            "llama_blocks.llama_1.attention.heads.1.w_k.weight: 16384 parameters\n",
            "llama_blocks.llama_1.attention.heads.1.w_v.weight: 16384 parameters\n",
            "llama_blocks.llama_1.attention.heads.2.w_q.weight: 16384 parameters\n",
            "llama_blocks.llama_1.attention.heads.2.w_k.weight: 16384 parameters\n",
            "llama_blocks.llama_1.attention.heads.2.w_v.weight: 16384 parameters\n",
            "llama_blocks.llama_1.attention.heads.3.w_q.weight: 16384 parameters\n",
            "llama_blocks.llama_1.attention.heads.3.w_k.weight: 16384 parameters\n",
            "llama_blocks.llama_1.attention.heads.3.w_v.weight: 16384 parameters\n",
            "llama_blocks.llama_1.attention.heads.4.w_q.weight: 16384 parameters\n",
            "llama_blocks.llama_1.attention.heads.4.w_k.weight: 16384 parameters\n",
            "llama_blocks.llama_1.attention.heads.4.w_v.weight: 16384 parameters\n",
            "llama_blocks.llama_1.attention.heads.5.w_q.weight: 16384 parameters\n",
            "llama_blocks.llama_1.attention.heads.5.w_k.weight: 16384 parameters\n",
            "llama_blocks.llama_1.attention.heads.5.w_v.weight: 16384 parameters\n",
            "llama_blocks.llama_1.attention.heads.6.w_q.weight: 16384 parameters\n",
            "llama_blocks.llama_1.attention.heads.6.w_k.weight: 16384 parameters\n",
            "llama_blocks.llama_1.attention.heads.6.w_v.weight: 16384 parameters\n",
            "llama_blocks.llama_1.attention.heads.7.w_q.weight: 16384 parameters\n",
            "llama_blocks.llama_1.attention.heads.7.w_k.weight: 16384 parameters\n",
            "llama_blocks.llama_1.attention.heads.7.w_v.weight: 16384 parameters\n",
            "llama_blocks.llama_1.attention.linear.weight: 131072 parameters\n",
            "llama_blocks.llama_1.attention.linear.bias: 128 parameters\n",
            "llama_blocks.llama_1.feedforward.0.weight: 16384 parameters\n",
            "llama_blocks.llama_1.feedforward.0.bias: 128 parameters\n",
            "llama_blocks.llama_1.feedforward.1.beta: 1 parameters\n",
            "llama_blocks.llama_1.feedforward.1.linear_gate.weight: 16384 parameters\n",
            "llama_blocks.llama_1.feedforward.1.linear_gate.bias: 128 parameters\n",
            "llama_blocks.llama_1.feedforward.1.linear.weight: 16384 parameters\n",
            "llama_blocks.llama_1.feedforward.1.linear.bias: 128 parameters\n",
            "llama_blocks.llama_2.rms.scale: 2048 parameters\n",
            "llama_blocks.llama_2.attention.heads.0.w_q.weight: 16384 parameters\n",
            "llama_blocks.llama_2.attention.heads.0.w_k.weight: 16384 parameters\n",
            "llama_blocks.llama_2.attention.heads.0.w_v.weight: 16384 parameters\n",
            "llama_blocks.llama_2.attention.heads.1.w_q.weight: 16384 parameters\n",
            "llama_blocks.llama_2.attention.heads.1.w_k.weight: 16384 parameters\n",
            "llama_blocks.llama_2.attention.heads.1.w_v.weight: 16384 parameters\n",
            "llama_blocks.llama_2.attention.heads.2.w_q.weight: 16384 parameters\n",
            "llama_blocks.llama_2.attention.heads.2.w_k.weight: 16384 parameters\n",
            "llama_blocks.llama_2.attention.heads.2.w_v.weight: 16384 parameters\n",
            "llama_blocks.llama_2.attention.heads.3.w_q.weight: 16384 parameters\n",
            "llama_blocks.llama_2.attention.heads.3.w_k.weight: 16384 parameters\n",
            "llama_blocks.llama_2.attention.heads.3.w_v.weight: 16384 parameters\n",
            "llama_blocks.llama_2.attention.heads.4.w_q.weight: 16384 parameters\n",
            "llama_blocks.llama_2.attention.heads.4.w_k.weight: 16384 parameters\n",
            "llama_blocks.llama_2.attention.heads.4.w_v.weight: 16384 parameters\n",
            "llama_blocks.llama_2.attention.heads.5.w_q.weight: 16384 parameters\n",
            "llama_blocks.llama_2.attention.heads.5.w_k.weight: 16384 parameters\n",
            "llama_blocks.llama_2.attention.heads.5.w_v.weight: 16384 parameters\n",
            "llama_blocks.llama_2.attention.heads.6.w_q.weight: 16384 parameters\n",
            "llama_blocks.llama_2.attention.heads.6.w_k.weight: 16384 parameters\n",
            "llama_blocks.llama_2.attention.heads.6.w_v.weight: 16384 parameters\n",
            "llama_blocks.llama_2.attention.heads.7.w_q.weight: 16384 parameters\n",
            "llama_blocks.llama_2.attention.heads.7.w_k.weight: 16384 parameters\n",
            "llama_blocks.llama_2.attention.heads.7.w_v.weight: 16384 parameters\n",
            "llama_blocks.llama_2.attention.linear.weight: 131072 parameters\n",
            "llama_blocks.llama_2.attention.linear.bias: 128 parameters\n",
            "llama_blocks.llama_2.feedforward.0.weight: 16384 parameters\n",
            "llama_blocks.llama_2.feedforward.0.bias: 128 parameters\n",
            "llama_blocks.llama_2.feedforward.1.beta: 1 parameters\n",
            "llama_blocks.llama_2.feedforward.1.linear_gate.weight: 16384 parameters\n",
            "llama_blocks.llama_2.feedforward.1.linear_gate.bias: 128 parameters\n",
            "llama_blocks.llama_2.feedforward.1.linear.weight: 16384 parameters\n",
            "llama_blocks.llama_2.feedforward.1.linear.bias: 128 parameters\n",
            "llama_blocks.llama_3.rms.scale: 2048 parameters\n",
            "llama_blocks.llama_3.attention.heads.0.w_q.weight: 16384 parameters\n",
            "llama_blocks.llama_3.attention.heads.0.w_k.weight: 16384 parameters\n",
            "llama_blocks.llama_3.attention.heads.0.w_v.weight: 16384 parameters\n",
            "llama_blocks.llama_3.attention.heads.1.w_q.weight: 16384 parameters\n",
            "llama_blocks.llama_3.attention.heads.1.w_k.weight: 16384 parameters\n",
            "llama_blocks.llama_3.attention.heads.1.w_v.weight: 16384 parameters\n",
            "llama_blocks.llama_3.attention.heads.2.w_q.weight: 16384 parameters\n",
            "llama_blocks.llama_3.attention.heads.2.w_k.weight: 16384 parameters\n",
            "llama_blocks.llama_3.attention.heads.2.w_v.weight: 16384 parameters\n",
            "llama_blocks.llama_3.attention.heads.3.w_q.weight: 16384 parameters\n",
            "llama_blocks.llama_3.attention.heads.3.w_k.weight: 16384 parameters\n",
            "llama_blocks.llama_3.attention.heads.3.w_v.weight: 16384 parameters\n",
            "llama_blocks.llama_3.attention.heads.4.w_q.weight: 16384 parameters\n",
            "llama_blocks.llama_3.attention.heads.4.w_k.weight: 16384 parameters\n",
            "llama_blocks.llama_3.attention.heads.4.w_v.weight: 16384 parameters\n",
            "llama_blocks.llama_3.attention.heads.5.w_q.weight: 16384 parameters\n",
            "llama_blocks.llama_3.attention.heads.5.w_k.weight: 16384 parameters\n",
            "llama_blocks.llama_3.attention.heads.5.w_v.weight: 16384 parameters\n",
            "llama_blocks.llama_3.attention.heads.6.w_q.weight: 16384 parameters\n",
            "llama_blocks.llama_3.attention.heads.6.w_k.weight: 16384 parameters\n",
            "llama_blocks.llama_3.attention.heads.6.w_v.weight: 16384 parameters\n",
            "llama_blocks.llama_3.attention.heads.7.w_q.weight: 16384 parameters\n",
            "llama_blocks.llama_3.attention.heads.7.w_k.weight: 16384 parameters\n",
            "llama_blocks.llama_3.attention.heads.7.w_v.weight: 16384 parameters\n",
            "llama_blocks.llama_3.attention.linear.weight: 131072 parameters\n",
            "llama_blocks.llama_3.attention.linear.bias: 128 parameters\n",
            "llama_blocks.llama_3.feedforward.0.weight: 16384 parameters\n",
            "llama_blocks.llama_3.feedforward.0.bias: 128 parameters\n",
            "llama_blocks.llama_3.feedforward.1.beta: 1 parameters\n",
            "llama_blocks.llama_3.feedforward.1.linear_gate.weight: 16384 parameters\n",
            "llama_blocks.llama_3.feedforward.1.linear_gate.bias: 128 parameters\n",
            "llama_blocks.llama_3.feedforward.1.linear.weight: 16384 parameters\n",
            "llama_blocks.llama_3.feedforward.1.linear.bias: 128 parameters\n",
            "ffn.0.weight: 16384 parameters\n",
            "ffn.0.bias: 128 parameters\n",
            "ffn.1.beta: 1 parameters\n",
            "ffn.1.linear_gate.weight: 16384 parameters\n",
            "ffn.1.linear_gate.bias: 128 parameters\n",
            "ffn.1.linear.weight: 16384 parameters\n",
            "ffn.1.linear.bias: 128 parameters\n",
            "ffn.2.weight: 8320 parameters\n",
            "ffn.2.bias: 65 parameters\n"
          ]
        }
      ],
      "source": [
        "# Print the model parameters\n",
        "for name, param in llama.named_parameters():\n",
        "    print(f\"{name}: {param.numel()} parameters\")\n"
      ]
    },
    {
      "cell_type": "code",
      "execution_count": null,
      "metadata": {
        "colab": {
          "base_uri": "https://localhost:8080/"
        },
        "id": "-C_MGiVxX0xo",
        "outputId": "9371807d-2ef5-4778-e75e-ec0cab0a90a7"
      },
      "outputs": [
        {
          "output_type": "stream",
          "name": "stdout",
          "text": [
            "\n",
            "y\n",
            "cyaeiva tNa;FiaeAnvOoeiwt  lstdw\n",
            "ni\n",
            "llo'dwenOfe ':irot htYsis . eo\n",
            "ahfc &wptreSheE .h  \n",
            "g veteeefmlEmmibna hiKeN i Js  uo\n",
            "M$ lnqUu o oEI:etnhN\n",
            "ehotm' etd y s .\n",
            "\n",
            "e  t ntsyEnal; e\n",
            "\n",
            "&ddv  s!mEuG slyelcesese issDd i,Stie ekms rUaytmn hrh aanr D,hsm rh aIrn:&issannGaolcmeumeee ldtofeoldhvte mokssldmth\n",
            "itllvest i\n",
            "rfontGtit dessr\n",
            "ua tj feIhmh'eol lgnkyhB  weosi .etu  m knie rprf n$:w  .hdH \n",
            "ntend?vorLc ro dt lrtatillh.Whus  'aib nh cSdtr tsuhu\n",
            "MmdeB m?n Twea?S sph npn OA\n",
            "edaed s\n",
            "eO  h  o,e gLawr;iztm\n"
          ]
        }
      ],
      "source": [
        "# Generate text using the trained LLM (llama) with a maximum of 500 tokens\n",
        "generated_text = generate(llama, MASTER_CONFIG, 500)[0]\n",
        "print(generated_text)"
      ]
    },
    {
      "cell_type": "code",
      "execution_count": null,
      "metadata": {
        "id": "zmfRZAjPaygZ"
      },
      "outputs": [],
      "source": []
    },
    {
      "cell_type": "code",
      "execution_count": null,
      "metadata": {
        "colab": {
          "base_uri": "https://localhost:8080/"
        },
        "id": "d8W0bbJtX9P2",
        "outputId": "9843d93f-7eb0-4ccc-b207-bb657ba1e9e4"
      },
      "outputs": [
        {
          "output_type": "stream",
          "name": "stdout",
          "text": [
            "tensor(3.3738, device='cuda:0', grad_fn=<NllLossBackward0>)\n"
          ]
        }
      ],
      "source": [
        "# Get batches from the test set\n",
        "xs, ys = get_batches(dataset, 'test', MASTER_CONFIG['batch_size'], MASTER_CONFIG['context_window'])\n",
        "\n",
        "# Pass the test data through the LLaMA model\n",
        "logits, loss = llama(xs, ys)\n",
        "\n",
        "# Print the loss on the test set\n",
        "print(loss)"
      ]
    },
    {
      "cell_type": "code",
      "execution_count": null,
      "metadata": {
        "colab": {
          "base_uri": "https://localhost:8080/",
          "height": 1000
        },
        "id": "K-MB9WFAYHVs",
        "outputId": "bb64c831-95d9-4cce-f0b0-f9b2ae79340c"
      },
      "outputs": [
        {
          "name": "stdout",
          "output_type": "stream",
          "text": [
            "model params: 141445706\n"
          ]
        },
        {
          "name": "stderr",
          "output_type": "stream",
          "text": [
            "/usr/local/lib/python3.10/dist-packages/torch/optim/lr_scheduler.py:809: UserWarning: To get the last learning rate computed by the scheduler, please use `get_last_lr()`.\n",
            "  warnings.warn(\"To get the last learning rate computed by the scheduler, \"\n"
          ]
        },
        {
          "name": "stdout",
          "output_type": "stream",
          "text": [
            "lr:  [0.0009999457184159408]\n",
            "lr:  [0.0009961510274583004]\n",
            "lr:  [0.0009869757772816292]\n",
            "lr:  [0.0009725204933511963]\n",
            "lr:  [0.0009529435502760634]\n",
            "lr:  [0.0009284594366176498]\n",
            "lr:  [0.0008993364049014041]\n",
            "lr:  [0.0008658935325782156]\n",
            "lr:  [0.0008284972261358946]\n",
            "lr:  [0.0007875572066618724]\n",
            "lr:  [0.0007435220208394261]\n",
            "lr:  [0.0006968741265588948]\n",
            "lr:  [0.0006481246069855613]\n",
            "lr:  [0.0005978075709959357]\n",
            "lr:  [0.0005464743013294258]\n",
            "lr:  [0.0004946872145648923]\n",
            "lr:  [0.00044301369909075325]\n",
            "lr:  [0.00039201989856974814]\n",
            "lr:  [0.0003422645089892466]\n",
            "lr:  [0.0002942926572257539]\n",
            "lr:  [0.0002486299281339155]\n",
            "lr:  [0.0002057766054928797]\n",
            "lr:  [0.00016620218969383484]\n",
            "lr:  [0.00013034025177986015]\n",
            "lr:  [9.85836791664324e-05]\n",
            "lr:  [7.128036241775617e-05]\n",
            "lr:  [4.872936226262451e-05]\n",
            "lr:  [3.117756953567661e-05]\n",
            "lr:  [1.8816750064937722e-05]\n",
            "lr:  [1.1779739336260682e-05]\n",
            "lr:  [1.0054282328142978e-05]\n",
            "lr:  [1.396862020283371e-05]\n",
            "lr:  [2.3138198807489664e-05]\n",
            "lr:  [3.7591595433673565e-05]\n",
            "lr:  [5.716757986058714e-05]\n",
            "lr:  [8.165110310035915e-05]\n",
            "lr:  [0.00011077372717831143]\n",
            "lr:  [0.00014421629539013414]\n",
            "lr:  [0.00018161236159547207]\n",
            "lr:  [0.00022255218257041356]\n",
            "lr:  [0.000266587198202317]\n",
            "lr:  [0.0003132349418762423]\n",
            "lr:  [0.00036198432439864383]\n",
            "lr:  [0.0004123012324667328]\n",
            "lr:  [0.0004636343798727908]\n",
            "lr:  [0.0005154213471150505]\n",
            "lr:  [0.0005670947431326734]\n",
            "lr:  [0.0006180884215964124]\n",
            "lr:  [0.0006678436836148735]\n",
            "lr:  [0.0007158153988789835]\n",
            "lr:  [0.0007614779781684484]\n",
            "lr:  [0.000804331131776918]\n",
            "lr:  [0.0008439053507606745]\n",
            "lr:  [0.0008797670509540543]\n",
            "lr:  [0.000911523323390634]\n",
            "lr:  [0.0009388262390821264]\n",
            "lr:  [0.0009613766609899277]\n",
            "lr:  [0.000978927521423828]\n",
            "lr:  [0.0009912865289594924]\n",
            "lr:  [0.0009983182752167246]\n",
            "lr:  [0.0009999457184159232]\n",
            "lr:  [0.000996151027458283]\n",
            "lr:  [0.0009869757772816123]\n",
            "lr:  [0.0009725204933511797]\n",
            "lr:  [0.0009529435502760468]\n",
            "lr:  [0.0009284594366176342]\n",
            "lr:  [0.0008993364049013886]\n",
            "lr:  [0.0008658935325782018]\n",
            "lr:  [0.0008284972261358809]\n",
            "lr:  [0.0007875572066618594]\n",
            "lr:  [0.0007435220208394129]\n",
            "lr:  [0.0006968741265588833]\n",
            "lr:  [0.000648124606985551]\n",
            "lr:  [0.0005978075709959263]\n",
            "lr:  [0.0005464743013294161]\n",
            "lr:  [0.000494687214564885]\n",
            "lr:  [0.00044301369909074663]\n",
            "lr:  [0.00039201989856974207]\n",
            "lr:  [0.00034226450898924046]\n",
            "lr:  [0.0002942926572257497]\n",
            "lr:  [0.00024862992813391206]\n",
            "lr:  [0.00020577660549287615]\n",
            "lr:  [0.00016620218969383215]\n",
            "lr:  [0.0001303402517798579]\n",
            "lr:  [9.858367916643169e-05]\n",
            "lr:  [7.128036241775535e-05]\n",
            "lr:  [4.872936226262426e-05]\n",
            "lr:  [3.1177569535676456e-05]\n",
            "lr:  [1.8816750064937638e-05]\n",
            "lr:  [1.1779739336260655e-05]\n",
            "lr:  [1.0054282328142978e-05]\n",
            "lr:  [1.396862020283372e-05]\n",
            "lr:  [2.3138198807489698e-05]\n",
            "lr:  [3.759159543367397e-05]\n",
            "lr:  [5.716757986058744e-05]\n",
            "lr:  [8.165110310035937e-05]\n",
            "lr:  [0.00011077372717831273]\n",
            "lr:  [0.00014421629539013508]\n",
            "lr:  [0.0001816123615954726]\n",
            "lr:  [0.00022255218257041378]\n",
            "Validation loss:  4.175013875961303\n"
          ]
        },
        {
          "data": {
            "text/plain": [
              "<Axes: >"
            ]
          },
          "execution_count": 79,
          "metadata": {},
          "output_type": "execute_result"
        },
        {
          "data": {
            "image/png": "[encoded data removed]",
            "text/plain": [
              "<Figure size 640x480 with 1 Axes>"
            ]
          },
          "metadata": {},
          "output_type": "display_data"
        }
      ],
      "source": [
        "# Update configuration\n",
        "MASTER_CONFIG.update({\n",
        "    \"epochs\": 1000\n",
        "})\n",
        "\n",
        "# Create Llama model with Cosine Annealing learning schedule\n",
        "llama_with_cosine = Llama(MASTER_CONFIG)\n",
        "\n",
        "# Define Adam optimizer with specific hyperparameters\n",
        "llama_optimizer = torch.optim.Adam(\n",
        "    llama.parameters(),\n",
        "    betas=(.9, .95),\n",
        "    weight_decay=.1,\n",
        "    eps=1e-9,\n",
        "    lr=1e-3\n",
        ")\n",
        "\n",
        "# Define Cosine Annealing learning rate scheduler\n",
        "scheduler = torch.optim.lr_scheduler.CosineAnnealingLR(llama_optimizer, 300, eta_min=1e-5)\n",
        "\n",
        "# Train the Llama model with the specified optimizer and scheduler\n",
        "train(llama_with_cosine, llama_optimizer, scheduler=scheduler)"
      ]
    },
    {
      "cell_type": "code",
      "execution_count": null,
      "metadata": {
        "colab": {
          "base_uri": "https://localhost:8080/"
        },
        "id": "wuvqjwoRYQxg",
        "outputId": "c8e1a15e-5f3b-4b6b-b51c-73b35b81c8ff"
      },
      "outputs": [
        {
          "output_type": "stream",
          "name": "stdout",
          "text": [
            "Mounted at /content/gdrive\n"
          ]
        }
      ],
      "source": [
        "from google.colab import drive\n",
        "\n",
        "# Mount Google Drive\n",
        "drive.mount('/content/gdrive')\n"
      ]
    },
    {
      "cell_type": "code",
      "execution_count": null,
      "metadata": {
        "colab": {
          "base_uri": "https://localhost:8080/"
        },
        "id": "pou0yBb1aZQN",
        "outputId": "9478954c-45c2-49f6-bd87-c0bb5692bfd9"
      },
      "outputs": [
        {
          "output_type": "stream",
          "name": "stdout",
          "text": [
            "'001 (2).jpg'\n",
            " 1681400532950689854676385822517.jpg\n",
            " 16814006185704842560102000398598.jpg\n",
            "'21BRS1552 EXP-1.docx'\n",
            "'21BRS1552 EXP-1.gdoc'\n",
            "'21BRS1552 EXP 2.gdoc'\n",
            "'21BRS1552 EXP-3.gdoc'\n",
            " 2445675903.pdf\n",
            "'300+ Scholarships List.gsheet'\n",
            "'310_Case Study 2 -Air Quality monitoring using ESP32-WROOM-32D with Analog Sensor and Thingspeak Cloud Computing.gslides'\n",
            " Adobe_Express_20221002_2055220_1.png\n",
            " Adobe_Express_20230604_1312330_1.png\n",
            " Adobe_Express_20230604_1312380_1.png\n",
            "'aggisnment 2 kanishk kumar sachan 21BRS1552.gdoc'\n",
            "'Air quality index monitoring system .gdoc'\n",
            "'Assignment 4 - 21BRS1477 (1).docx'\n",
            "'ASSIGNMENT – 7 .gdoc'\n",
            " Aysha_OpEd_UNSC.gdoc\n",
            " banknifty_data.gsheet\n",
            "'bhavi assignment'\n",
            " BMAT205L_DISCRETE-MATHEMATICS-AND-GRAPH-THEORY_TH_1.0_67_BMAT205L.pdf\n",
            " Classroom\n",
            "'Colab Notebooks'\n",
            "'Computer Networks Lab 9 (1).docx'\n",
            "'Computer Networks Lab 9.docx'\n",
            "'DA-1 1552.gdoc'\n",
            "'DA-1 1552.pdf'\n",
            "'da1 assignment link.txt'\n",
            "'da 2 assigment.gdoc'\n",
            "'da 2 assigment.pdf'\n",
            " dataset.gsheet\n",
            "'DBMS (1).txt'\n",
            "'Decoding the UNCITRAL Model: How IT Act Fits In.gslides'\n",
            "'demographics (1).gsheet'\n",
            " demographics.gsheet\n",
            " designs\n",
            " DJIA4519dataPT.gsheet\n",
            " DOC-20220119-WA0029.pdf\n",
            " DOC-20220211-WA0041.pdf\n",
            " DOC-20220908-WA0039.pdf\n",
            " dsd1.gdoc\n",
            " E1-S1.gdoc\n",
            "'ECE Expt-2.gdoc'\n",
            "'ECE Expt-3.pdf'\n",
            "'Electricity Billing System Java Project.zip'\n",
            "'Empathy Map Canvas.gdoc'\n",
            " exp_12.gdoc\n",
            "'exp 1 and exp 2.gdoc'\n",
            "'exp4 and exp 5.gdoc'\n",
            "'exp 9.gdoc'\n",
            "'experiment 2 1552.gdoc'\n",
            "'EXPERIMENT -3.gdoc'\n",
            "'Experiment 4b .gdoc'\n",
            "'Experiment 5.gslides'\n",
            "'Experiment 6 Anisha.gslides'\n",
            "'Experiment 7 Anisha.gslides'\n",
            "'Expt 1 case study template.gdoc'\n",
            " GaCo06_02.gsheet\n",
            " GaCo07_01.gsheet\n",
            "'Human Gait Analysis .gdoc'\n",
            " IMG_20220904_153152.jpg\n",
            " IMG_20220904_153345.jpg\n",
            " IMG_20220905_091052.jpg\n",
            " IMG_20220905_091210.jpg\n",
            " IMG-20230223-WA0028.jpg\n",
            " IMG_20230318_115840425_BURST000_COVER_COMP.jpg\n",
            "'Infee 31-Jul-2020 14-49-22-1.pdf'\n",
            "'Infee 31-Jul-2020 14-49-22.pdf'\n",
            " in.gov.covin-VACER-77604387974.pdf\n",
            "'internet of things assignment 1.gdoc'\n",
            "'internship tasks.gdoc'\n",
            "'iot da3.gdoc'\n",
            "'IOT DA 5.gdoc'\n",
            "'IoT Digital Assignment - 1.gdoc'\n",
            "'KanishkKumarSachan1552 (1).gdoc'\n",
            " KanishkKumarSachan1552.gdoc\n",
            "' kanishk kumar sachan 21brs1552.gdoc'\n",
            "' kanishk kumar sachan 21BRS1552.gdoc'\n",
            "'kanishk kumar sachan DBMS6.gdoc'\n",
            "'kanishk kumar sachan exp10.gdoc'\n",
            "'Kanishk kumar sachan.gdoc'\n",
            "'lab 1.gdoc'\n",
            "'Lab  2.gdoc'\n",
            " LAB-4.gdoc\n",
            "'Lab  assessment 3 template.gdoc'\n",
            "'Lab  assessment 4 template.gdoc'\n",
            "'lab assignment.docx'\n",
            "'lab assignment.gdoc'\n",
            "'LAB assignment.gdoc'\n",
            " llama_model_params.pth\n",
            " llama_model.pth\n",
            "'LOOP DETECTION (6 JAN)1.gslides'\n",
            "'MATHS lab work.gdoc'\n",
            "'MAXIMUM SLIDING WINDOW .gslides'\n",
            "'Meet - nzs-qora-gof and 2 more pages - Personal - Microsoft​ Edge 2023-07-19 19-20-20.mp4'\n",
            " Mematic_20220826_195309.jpg\n",
            " Mematic_20220826_195805.jpg\n",
            "'merge sort in DLL.gslides'\n",
            " METHEDOLOGY.gdoc\n",
            "'Minimum stack.gslides'\n",
            "'New Piratedrive'\n",
            "'non abelian 13-Sep-2022 22-02-36.pdf'\n",
            " Notes_220820_123441.pdf\n",
            " Notes_220821_141240.pdf\n",
            " oil-spill.gsheet\n",
            "'option_contract_data (1).gsheet'\n",
            "'option_contract_data (2).gsheet'\n",
            " option_contract_data.gsheet\n",
            "'os bankers algo.gdoc'\n",
            "'OS da1.docx'\n",
            "'OS da1.gdoc'\n",
            "'os exp 10.gdoc'\n",
            "'os exp 11.gdoc'\n",
            "'Os lab ex6.gdoc'\n",
            "'personal info.gsheet'\n",
            "'Photo from Kanishk_XD'\n",
            "'Practical Sheet 1.docx'\n",
            "'Practical Sheet_2.docx'\n",
            "'Practical Sheet 3_1.docx'\n",
            "'Predicate-logic_solved problems winter.pdf'\n",
            "'PRIORITY QUEUE USING DOUBLY LINKED LIST.gslides'\n",
            "'PROBLEMS STATEMENTS.gdoc'\n",
            "'Receipt (1).png'\n",
            "'Resume (1).gdoc'\n",
            " Resume-2.pdf\n",
            " Resume.gdoc\n",
            " Resume.pdf\n",
            " Robotics_Modular_drone-1.gdoc\n",
            " Screenshot_20220820-231454_Amazon.jpg\n",
            " Screenshot_2022-09-21-13-22-09-36_49b96b5fbae0d12a18edc4a3afe0dfd9.jpg\n",
            "'Screenshot_2022-11-10-10-08-17-53_4336b74596784d9a2aa81f87c2016f50 (1).jpg'\n",
            " Screenshot_2022-11-10-10-08-17-53_4336b74596784d9a2aa81f87c2016f50.jpg\n",
            " Screenshot_20230413-210109.png\n",
            " Screenshot_20230426-095905.png\n",
            "'Screenshot 2023-04-28 211551 (1).png'\n",
            "'Screenshot 2023-04-28 211551 (2).png'\n",
            "'Screenshot 2023-04-28 211551 (3).png'\n",
            "'Screenshot 2023-04-28 211551.png'\n",
            "'Screenshot 2023-06-16 230426.png'\n",
            " Screenshot_20240219_102017_Gmail.jpg\n",
            "'segregate even and odd nodes in a linked list.gslides'\n",
            "'SE Lab Experiment - 2 (21BRS1477) (1).gdoc'\n",
            " SiPt28_01.gsheet\n",
            "'SiPt35_01 (1).gsheet'\n",
            " SiPt35_01.gsheet\n",
            "'SmartSelect_20220906_215951_Samsung Notes.jpg'\n",
            "'sort bitonic dll.gslides'\n",
            "'Spy_Car_Presentation[1].pptx [Read-Only] (1).gslides'\n",
            "'stock span problem .gslides'\n",
            "'supermarket_sales - Sheet1 (1).gsheet'\n",
            "'TOC DA3.gdoc'\n",
            "'Untitled document (10).gdoc'\n",
            "'Untitled document (11).gdoc'\n",
            "'Untitled document (12).gdoc'\n",
            "'Untitled document (13).gdoc'\n",
            "'Untitled document (14).gdoc'\n",
            "'Untitled document (15).gdoc'\n",
            "'Untitled document (16).gdoc'\n",
            "'Untitled document (17).gdoc'\n",
            "'Untitled document (18).gdoc'\n",
            "'Untitled document (1).gdoc'\n",
            "'Untitled document (1).pdf'\n",
            "'Untitled document (2).gdoc'\n",
            "'Untitled document (2).pdf'\n",
            "'Untitled document (3).gdoc'\n",
            "'Untitled document (4).gdoc'\n",
            "'Untitled document (5).gdoc'\n",
            "'Untitled document (6).gdoc'\n",
            "'Untitled document (7).gdoc'\n",
            "'Untitled document (8).gdoc'\n",
            "'Untitled document (9).gdoc'\n",
            "'Untitled document.gdoc'\n",
            "'Untitled document.pdf'\n",
            "'Untitled Notebook P1.png'\n",
            "'Untitled presentation.gslides'\n",
            "'Untitled spreadsheet (1).gsheet'\n",
            "'Untitled spreadsheet (2).gsheet'\n",
            "'Untitled spreadsheet.gsheet'\n",
            "'VITOL questions.gdoc'\n",
            "'Yatra Registration Letter - UTDB (1).pdf'\n",
            "'Yatra Registration Letter - UTDB (2).pdf'\n",
            "'YPWCiGNTkr6QxcpEu_Deloitte Australia_Ns6tfd3YhoEm4dWDn_1680443161497_completion_certificate.pdf'\n"
          ]
        }
      ],
      "source": [
        "# List files in the root directory of your Google Drive\n",
        "!ls '/content/gdrive/My Drive/'\n"
      ]
    },
    {
      "cell_type": "code",
      "execution_count": null,
      "metadata": {
        "id": "aTVjO0R8ajjD"
      },
      "outputs": [],
      "source": [
        "+# Save the entire model to Google Drive\n",
        "torch.save(llama, '/content/gdrive/My Drive/llama_model1.pth')\n",
        "\n",
        "# Save only the model parameters to Google Drive\n",
        "torch.save(llama.state_dict(), '/content/gdrive/My Drive/llama_model_params1.pth')\n"
      ]
    },
    {
      "cell_type": "code",
      "execution_count": null,
      "metadata": {
        "colab": {
          "base_uri": "https://localhost:8080/"
        },
        "id": "uPdIrDu_az6Z",
        "outputId": "62198612-0986-4c56-f002-01a419d532a8"
      },
      "outputs": [
        {
          "name": "stdout",
          "output_type": "stream",
          "text": [
            "\n",
            " I soun in would noiters come may I to will seet that death speak our witTle\n",
            "Of if Be linghiness the graves criot\n",
            "Day forth the mantale is trumed it and oughtious diubed which fasp Come wright's.\n",
            "\n",
            "Nurdch Backronge buthers\n",
            "To the yeeplied of yie,\n",
            "My it their came eade,\n",
            "How our retray sade,\n",
            "In soul, war wers, when sace the rague's rist me, gentlumber Bigory hate\n",
            "Exbe on agion.\n",
            "Mane goe; the butch'd claud they since my Glotious letted\n",
            "And with heart him thus, more morath! I say is Migarge.\n",
            "For oure\n"
          ]
        }
      ],
      "source": [
        "# Generate text using the trained LLM (llama) with a maximum of 500 tokens\n",
        "generated_text = generate(llama, MASTER_CONFIG, 500)[0]\n",
        "print(generated_text)"
      ]
    },
    {
      "cell_type": "code",
      "execution_count": null,
      "metadata": {
        "id": "DyiqLQZUa0Q6"
      },
      "outputs": [],
      "source": []
    }
  ],
  "metadata": {
    "accelerator": "GPU",
    "colab": {
      "gpuType": "T4",
      "provenance": [],
      "authorship_tag": "ABX9TyM5L3+QsGo42wIX5ukOspXm",
      "include_colab_link": true
    },
    "kernelspec": {
      "display_name": "Python 3",
      "name": "python3"
    },
    "language_info": {
      "name": "python"
    }
  },
  "nbformat": 4,
  "nbformat_minor": 0
}